{
  "nbformat": 4,
  "nbformat_minor": 0,
  "metadata": {
    "colab": {
      "name": "hw-Valenzuela.ipynb",
      "provenance": [],
      "collapsed_sections": []
    },
    "kernelspec": {
      "name": "python3",
      "display_name": "Python 3"
    },
    "language_info": {
      "name": "python"
    }
  },
  "cells": [
    {
      "cell_type": "code",
      "metadata": {
        "id": "V7jfjzl4CK9r"
      },
      "source": [
        "import pandas as pd\n",
        "from scipy.stats import entropy\n",
        "from sklearn.metrics import roc_curve, auc\n",
        "import numpy as np\n",
        "import matplotlib.pyplot as plt"
      ],
      "execution_count": 16,
      "outputs": []
    },
    {
      "cell_type": "markdown",
      "metadata": {
        "id": "wN3i9FwYCCJA"
      },
      "source": [
        "1. Finding the Entropy of the dataset"
      ]
    },
    {
      "cell_type": "code",
      "metadata": {
        "colab": {
          "base_uri": "https://localhost:8080/"
        },
        "id": "xmkZvpcKB-1Z",
        "outputId": "2dd9998d-7d99-4aeb-b710-60de154141a5"
      },
      "source": [
        "data=[1,1,0,1,0,0,0,1,0]\n",
        "e = entropy([4/9,5/9],base=2)\n",
        "print(e)"
      ],
      "execution_count": null,
      "outputs": [
        {
          "output_type": "stream",
          "name": "stdout",
          "text": [
            "0.9910760598382222\n"
          ]
        }
      ]
    },
    {
      "cell_type": "markdown",
      "metadata": {
        "id": "B9LCcQdS7gCE"
      },
      "source": [
        "Classification Model Evaluation "
      ]
    },
    {
      "cell_type": "code",
      "metadata": {
        "colab": {
          "base_uri": "https://localhost:8080/",
          "height": 466
        },
        "id": "1pKZ8pt17juV",
        "outputId": "6d801a74-c449-4f9d-f2b1-f6f699cb7d30"
      },
      "source": [
        "print(\"M1\")\n",
        "m1 = np.array([.73,.69,.44,.55,.67,.47,.08,.15,.45,.35])\n",
        "labels=np.array([1,1,0,0,1,1,0,0,1,0])\n",
        "fpr, tpr, _ = roc_curve(labels,m1)\n",
        "print(\"fpr =\", fpr)\n",
        "print(\"tpr = \", tpr)\n",
        "roc_auc=auc(fpr,tpr)\n",
        "print(\"roc_auc=\",roc_auc)\n",
        "plt.xlabel(\"False Positive Rate\")\n",
        "plt.ylabel(\"True Positive Rate\")\n",
        "plt.plot(fpr,tpr)\n",
        "\n",
        "print(\"\\n\")\n",
        "print(\"M2\")\n",
        "m2 = np.array([.61,.03,.68,.31,.45,.09,.38,.05,.01,.04])\n",
        "labels=np.array([1,1,0,0,1,1,0,0,1,0])\n",
        "fpr, tpr, _ = roc_curve(labels,m2)\n",
        "print(\"fpr =\", fpr)\n",
        "print(\"tpr = \", tpr)\n",
        "roc_auc=auc(fpr,tpr)\n",
        "print(\"roc_auc=\",roc_auc)\n",
        "plt.xlabel(\"False Positive Rate\")\n",
        "plt.ylabel(\"True Positive Rate\")\n",
        "plt.plot(fpr,tpr)"
      ],
      "execution_count": 23,
      "outputs": [
        {
          "output_type": "stream",
          "name": "stdout",
          "text": [
            "M1\n",
            "fpr = [0.  0.  0.  0.2 0.2 1. ]\n",
            "tpr =  [0.  0.2 0.6 0.6 1.  1. ]\n",
            "roc_auc= 0.92\n",
            "\n",
            "\n",
            "M2\n",
            "fpr = [0.  0.2 0.2 0.6 0.6 1.  1. ]\n",
            "tpr =  [0.  0.  0.4 0.4 0.6 0.6 1. ]\n",
            "roc_auc= 0.4\n"
          ]
        },
        {
          "output_type": "execute_result",
          "data": {
            "text/plain": [
              "[<matplotlib.lines.Line2D at 0x7fbd5c982910>]"
            ]
          },
          "metadata": {},
          "execution_count": 23
        },
        {
          "output_type": "display_data",
          "data": {
            "image/png": "[encoded data removed]",
            "text/plain": [
              "<Figure size 432x288 with 1 Axes>"
            ]
          },
          "metadata": {
            "needs_background": "light"
          }
        }
      ]
    },
    {
      "cell_type": "markdown",
      "metadata": {
        "id": "PJ7cy5T6Mwwx"
      },
      "source": [
        "Classification Model Evaluation"
      ]
    },
    {
      "cell_type": "code",
      "metadata": {
        "colab": {
          "base_uri": "https://localhost:8080/",
          "height": 364
        },
        "id": "XbinPUAaM0Xs",
        "outputId": "57359c76-5d97-414c-ffec-965407f91f93"
      },
      "source": [
        "##The threshold is now .5, any number greater than .5 recieves a positive label\n",
        "print(\"M1\")\n",
        "m1 = np.array([.73,.69,.44,.55,.67,.47,.08,.15,.45,.35])\n",
        "labels=np.array([1,1,0,1,1,1,0,0,1,0])\n",
        "fpr, tpr, _ = roc_curve(labels,m1)\n",
        "print(\"fpr =\", fpr)\n",
        "print(\"tpr = \", tpr)\n",
        "roc_auc=auc(fpr,tpr)\n",
        "roc_auc=auc(fpr,tpr)\n",
        "print(\"roc_auc=\",roc_auc)\n",
        "plt.xlabel(\"False Positive Rate\")\n",
        "plt.ylabel(\"True Positive Rate\")\n",
        "plt.plot(fpr,tpr)\n"
      ],
      "execution_count": 31,
      "outputs": [
        {
          "output_type": "stream",
          "name": "stdout",
          "text": [
            "M1\n",
            "fpr = [0. 0. 0. 1.]\n",
            "tpr =  [0.         0.16666667 1.         1.        ]\n",
            "roc_auc= 1.0\n"
          ]
        },
        {
          "output_type": "execute_result",
          "data": {
            "text/plain": [
              "[<matplotlib.lines.Line2D at 0x7fbd5ca4e7d0>]"
            ]
          },
          "metadata": {},
          "execution_count": 31
        },
        {
          "output_type": "display_data",
          "data": {
            "image/png": "[encoded data removed]",
            "text/plain": [
              "<Figure size 432x288 with 1 Axes>"
            ]
          },
          "metadata": {
            "needs_background": "light"
          }
        }
      ]
    },
    {
      "cell_type": "code",
      "metadata": {
        "colab": {
          "base_uri": "https://localhost:8080/",
          "height": 364
        },
        "id": "WqPxEUXpNWrB",
        "outputId": "e0330262-433c-490d-af71-5bf1f530be18"
      },
      "source": [
        "##The threshold is now .1, any number greater than .1 recieves a positive label\n",
        "print(\"M1\")\n",
        "m1 = np.array([.73,.69,.44,.55,.67,.47,.08,.15,.45,.35])\n",
        "labels=np.array([1,1,1,1,1,1,0,1,1,1])\n",
        "fpr, tpr, _ = roc_curve(labels,m1)\n",
        "print(\"fpr =\", fpr)\n",
        "print(\"tpr = \", tpr)\n",
        "roc_auc=auc(fpr,tpr)\n",
        "roc_auc=auc(fpr,tpr)\n",
        "print(\"roc_auc=\",roc_auc)\n",
        "plt.xlabel(\"False Positive Rate\")\n",
        "plt.ylabel(\"True Positive Rate\")\n",
        "plt.plot(fpr,tpr)"
      ],
      "execution_count": 30,
      "outputs": [
        {
          "output_type": "stream",
          "name": "stdout",
          "text": [
            "M1\n",
            "fpr = [0. 0. 0. 1.]\n",
            "tpr =  [0.         0.11111111 1.         1.        ]\n",
            "roc_auc= 1.0\n"
          ]
        },
        {
          "output_type": "execute_result",
          "data": {
            "text/plain": [
              "[<matplotlib.lines.Line2D at 0x7fbd5ca34e50>]"
            ]
          },
          "metadata": {},
          "execution_count": 30
        },
        {
          "output_type": "display_data",
          "data": {
            "image/png": "[encoded data removed]",
            "text/plain": [
              "<Figure size 432x288 with 1 Axes>"
            ]
          },
          "metadata": {
            "needs_background": "light"
          }
        }
      ]
    }
  ]
}