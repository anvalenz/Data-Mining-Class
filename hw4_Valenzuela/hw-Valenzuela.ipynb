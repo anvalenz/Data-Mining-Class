{
  "nbformat": 4,
  "nbformat_minor": 0,
  "metadata": {
    "colab": {
      "name": "hw.ipynb",
      "provenance": [],
      "collapsed_sections": []
    },
    "kernelspec": {
      "name": "python3",
      "display_name": "Python 3"
    },
    "language_info": {
      "name": "python"
    }
  },
  "cells": [
    {
      "cell_type": "code",
      "metadata": {
        "id": "pt96MIIBG0K9"
      },
      "source": [
        "import numpy as np\n",
        "import pandas as pd\n",
        "from sklearn.model_selection import train_test_split\n",
        "from sklearn.neighbors import KNeighborsClassifier\n",
        "from sklearn.linear_model import LogisticRegression\n",
        "from sklearn.model_selection import KFold\n",
        "from sklearn.metrics import accuracy_score\n",
        "from sklearn import svm\n",
        "import csv "
      ],
      "execution_count": null,
      "outputs": []
    },
    {
      "cell_type": "code",
      "metadata": {
        "colab": {
          "base_uri": "https://localhost:8080/"
        },
        "id": "w2Khfm89GyYL",
        "outputId": "67ba9373-0fd5-4774-d838-0f7e41c9f7a0"
      },
      "source": [
        "url = 'https://raw.githubusercontent.com/anvalenz/CS488/main/glass.csv'\n",
        "df = pd.read_csv(url)\n",
        "\n",
        "##making usre the data was loaded\n",
        "# I am going to use 1 and 1.52101 as the header because the data was not provided with one \n",
        "train, test = train_test_split(df, test_size = 0.2)\n",
        "print(train)\n",
        "np.savetxt('train.csv', train, fmt='%f')\n",
        "np.savetxt('test.csv', test, fmt='%f')"
      ],
      "execution_count": null,
      "outputs": [
        {
          "output_type": "stream",
          "name": "stdout",
          "text": [
            "       1  1.52101  13.64  4.49  1.10  71.78  0.06   8.75  0.00  0.00.1  1.1\n",
            "168  170  1.51994  13.27  0.00  1.76  73.03  0.47  11.32  0.00    0.00    5\n",
            "157  159  1.51776  13.53  3.41  1.52  72.04  0.58   8.79  0.00    0.00    3\n",
            "105  107  1.53125  10.73  0.00  2.10  69.81  0.58  13.30  3.15    0.28    2\n",
            "178  180  1.51852  14.09  2.19  1.66  72.67  0.00   9.32  0.00    0.00    6\n",
            "22    24  1.51751  12.81  3.57  1.35  73.02  0.62   8.59  0.00    0.00    1\n",
            "..   ...      ...    ...   ...   ...    ...   ...    ...   ...     ...  ...\n",
            "135  137  1.51806  13.00  3.80  1.08  73.07  0.56   8.38  0.00    0.12    2\n",
            "112  114  1.51892  13.46  3.83  1.26  72.55  0.57   8.21  0.00    0.14    2\n",
            "50    52  1.51926  13.20  3.33  1.28  72.36  0.60   9.14  0.00    0.11    1\n",
            "98   100  1.51811  12.96  2.96  1.43  72.92  0.60   8.79  0.14    0.00    2\n",
            "124  126  1.51872  12.93  3.66  1.56  72.51  0.58   8.55  0.00    0.12    2\n",
            "\n",
            "[170 rows x 11 columns]\n"
          ]
        }
      ]
    },
    {
      "cell_type": "markdown",
      "metadata": {
        "id": "0GizfvVdQ7SS"
      },
      "source": [
        "K-Nearest Neighbor"
      ]
    },
    {
      "cell_type": "code",
      "metadata": {
        "colab": {
          "base_uri": "https://localhost:8080/"
        },
        "id": "zIrNoI7XQ1KV",
        "outputId": "eb2eb0e3-2b5a-46df-db58-66df594d3b20"
      },
      "source": [
        "#Use K-nearest neighbor\n",
        "url = 'https://raw.githubusercontent.com/anvalenz/CS488/main/glass.csv'\n",
        "df = pd.read_csv(url)\n",
        "X = df.iloc[:, [1, 2, 3]].values\n",
        "y = df.iloc[:, -1].values\n",
        "X_train, X_test, y_train, y_test = train_test_split(X, y, test_size = 0.20)\n",
        "\n",
        "print(\"euclidean\")\n",
        "knn = KNeighborsClassifier(n_neighbors=1, metric='euclidean')\n",
        "knn.fit(X_train,y_train)\n",
        "y_pred = knn.predict(X_test)\n",
        "print(y_pred)\n",
        "\n",
        "knn = KNeighborsClassifier(n_neighbors=3, metric='euclidean')\n",
        "knn.fit(X_train,y_train)\n",
        "y_pred = knn.predict(X_test)\n",
        "print(y_pred)\n",
        "\n",
        "knn = KNeighborsClassifier(n_neighbors=5, metric='euclidean')\n",
        "knn.fit(X_train,y_train)\n",
        "y_pred = knn.predict(X_test)\n",
        "print(y_pred)\n",
        "\n",
        "knn = KNeighborsClassifier(n_neighbors=7, metric='euclidean')\n",
        "knn.fit(X_train,y_train)\n",
        "y_pred = knn.predict(X_test)\n",
        "print(y_pred)\n",
        "\n",
        "knn = KNeighborsClassifier(n_neighbors=9, metric='euclidean')\n",
        "knn.fit(X_train,y_train)\n",
        "y_pred = knn.predict(X_test)\n",
        "print(y_pred)\n",
        "\n",
        "knn = KNeighborsClassifier(n_neighbors=11, metric='euclidean')\n",
        "knn.fit(X_train,y_train)\n",
        "y_pred = knn.predict(X_test)\n",
        "print(y_pred)\n",
        "\n",
        "print(\"Manhattan\")\n",
        "knn = KNeighborsClassifier(n_neighbors=1, metric='manhattan')\n",
        "knn.fit(X_train,y_train)\n",
        "y_pred = knn.predict(X_test)\n",
        "print(y_pred)\n",
        "\n",
        "knn = KNeighborsClassifier(n_neighbors=3, metric='manhattan')\n",
        "knn.fit(X_train,y_train)\n",
        "y_pred = knn.predict(X_test)\n",
        "print(y_pred)\n",
        "\n",
        "knn = KNeighborsClassifier(n_neighbors=5, metric='manhattan')\n",
        "knn.fit(X_train,y_train)\n",
        "y_pred = knn.predict(X_test)\n",
        "print(y_pred)\n",
        "\n",
        "knn = KNeighborsClassifier(n_neighbors=7, metric='manhattan')\n",
        "knn.fit(X_train,y_train)\n",
        "y_pred = knn.predict(X_test)\n",
        "print(y_pred)\n",
        "\n",
        "knn = KNeighborsClassifier(n_neighbors=9, metric='manhattan')\n",
        "knn.fit(X_train,y_train)\n",
        "y_pred = knn.predict(X_test)\n",
        "print(y_pred)\n",
        "\n",
        "knn = KNeighborsClassifier(n_neighbors=11, metric='manhattan')\n",
        "knn.fit(X_train,y_train)\n",
        "y_pred = knn.predict(X_test)\n",
        "print(y_pred)\n"
      ],
      "execution_count": null,
      "outputs": [
        {
          "output_type": "stream",
          "name": "stdout",
          "text": [
            "euclidean\n",
            "[1 2 7 1 7 5 7 2 2 2 2 2 7 1 1 1 1 2 2 2 1 2 2 2 5 1 1 1 3 1 2 5 1 3 7 3 2\n",
            " 2 1 1 2 2 1]\n",
            "[1 5 7 1 7 5 7 2 1 2 2 2 7 1 1 1 1 2 2 2 1 2 2 2 5 1 1 1 2 1 1 5 1 2 7 3 2\n",
            " 1 1 1 2 2 1]\n",
            "[2 5 7 1 7 5 7 2 1 6 2 2 7 1 1 1 2 2 2 2 1 1 2 2 2 2 1 1 1 1 2 5 1 2 7 3 2\n",
            " 1 1 1 7 1 1]\n",
            "[2 5 7 1 7 5 7 2 1 6 2 2 7 1 1 1 2 2 2 2 1 1 2 2 2 2 1 1 1 1 2 5 2 2 7 3 2\n",
            " 1 1 1 7 1 1]\n",
            "[2 7 7 1 7 5 7 2 1 6 1 2 7 1 1 1 1 2 2 2 1 1 2 2 2 2 1 1 1 1 1 5 2 2 7 3 2\n",
            " 1 1 1 7 1 1]\n",
            "[2 7 7 1 7 5 7 2 1 5 1 2 7 1 1 1 1 2 2 2 1 1 2 2 2 2 1 1 1 1 2 5 2 2 7 2 2\n",
            " 1 1 1 7 1 1]\n",
            "Manhattan\n",
            "[1 2 7 1 7 5 7 2 2 2 2 2 7 1 1 2 1 2 2 2 1 2 2 2 5 1 1 1 7 1 2 5 1 3 7 3 2\n",
            " 2 1 1 2 2 1]\n",
            "[1 5 7 1 7 5 7 2 1 6 2 2 7 2 1 1 1 2 2 2 1 2 2 2 5 1 1 2 2 1 1 5 1 2 7 3 2\n",
            " 1 1 1 2 2 1]\n",
            "[1 5 7 1 7 5 7 2 2 6 2 2 7 2 1 2 2 2 2 2 1 1 2 2 5 2 1 2 1 1 2 5 1 2 7 3 2\n",
            " 1 1 1 7 1 1]\n",
            "[2 5 7 1 7 5 7 2 1 6 1 2 7 1 1 2 1 2 2 1 1 1 2 2 2 2 1 2 1 1 1 5 2 2 7 3 2\n",
            " 1 1 1 7 2 1]\n",
            "[2 7 7 1 7 5 7 2 1 6 2 2 7 1 1 1 2 2 2 1 1 1 2 2 2 2 1 1 1 1 1 5 2 2 7 3 2\n",
            " 1 1 1 7 1 1]\n",
            "[2 7 7 1 7 5 7 2 1 6 1 2 7 2 1 1 1 2 2 1 1 1 2 2 2 2 1 1 1 1 2 5 2 2 7 2 2\n",
            " 1 1 1 7 2 1]\n"
          ]
        }
      ]
    },
    {
      "cell_type": "markdown",
      "metadata": {
        "id": "JDDKs-zhWdhh"
      },
      "source": [
        "Regression vs 5 fold"
      ]
    },
    {
      "cell_type": "code",
      "metadata": {
        "colab": {
          "base_uri": "https://localhost:8080/"
        },
        "id": "cApVyHZSWc-U",
        "outputId": "fcc93401-ae6e-4581-b553-9cfdfedae186"
      },
      "source": [
        "#we will first split the data using Kfold\n",
        "url = 'https://raw.githubusercontent.com/anvalenz/CS488/main/glass.csv'\n",
        "df = pd.read_csv(url)\n",
        "X = df.iloc[:,:-1]\n",
        "y = df.iloc[:,-1]\n",
        "kf = KFold(n_splits=5)\n",
        "kf.get_n_splits(X)\n",
        "print(kf)\n",
        "model = LogisticRegression()\n",
        "k=5\n",
        "acc_score = []\n",
        "for train_index, test_index in kf.split(X):\n",
        "     X_train , X_test = X.iloc[train_index,:],X.iloc[test_index,:]\n",
        "     y_train , y_test = y[train_index] , y[test_index] \n",
        "        \n",
        "     model.fit(X_train,y_train)\n",
        "     pred_values = model.predict(X_test)\n",
        "     \n",
        "     acc = accuracy_score(pred_values , y_test)\n",
        "     acc_score.append(acc)\n",
        "\n",
        "avg_acc_score = sum(acc_score)/k\n",
        "\n",
        "clf = svm.SVC(kernel='rbf')\n",
        "clf.fit(X_train, y_train)\n",
        "y_pred = clf.predict(X_test)\n",
        "print('Avg accuracy : {}'.format(avg_acc_score))"
      ],
      "execution_count": null,
      "outputs": [
        {
          "output_type": "stream",
          "name": "stdout",
          "text": [
            "KFold(n_splits=5, random_state=None, shuffle=False)\n",
            "Avg accuracy : 0.7054263565891472\n"
          ]
        },
        {
          "output_type": "stream",
          "name": "stderr",
          "text": [
            "/usr/local/lib/python3.7/dist-packages/sklearn/linear_model/_logistic.py:940: ConvergenceWarning: lbfgs failed to converge (status=1):\n",
            "STOP: TOTAL NO. of ITERATIONS REACHED LIMIT.\n",
            "\n",
            "Increase the number of iterations (max_iter) or scale the data as shown in:\n",
            "    https://scikit-learn.org/stable/modules/preprocessing.html\n",
            "Please also refer to the documentation for alternative solver options:\n",
            "    https://scikit-learn.org/stable/modules/linear_model.html#logistic-regression\n",
            "  extra_warning_msg=_LOGISTIC_SOLVER_CONVERGENCE_MSG)\n",
            "/usr/local/lib/python3.7/dist-packages/sklearn/linear_model/_logistic.py:940: ConvergenceWarning: lbfgs failed to converge (status=1):\n",
            "STOP: TOTAL NO. of ITERATIONS REACHED LIMIT.\n",
            "\n",
            "Increase the number of iterations (max_iter) or scale the data as shown in:\n",
            "    https://scikit-learn.org/stable/modules/preprocessing.html\n",
            "Please also refer to the documentation for alternative solver options:\n",
            "    https://scikit-learn.org/stable/modules/linear_model.html#logistic-regression\n",
            "  extra_warning_msg=_LOGISTIC_SOLVER_CONVERGENCE_MSG)\n",
            "/usr/local/lib/python3.7/dist-packages/sklearn/linear_model/_logistic.py:940: ConvergenceWarning: lbfgs failed to converge (status=1):\n",
            "STOP: TOTAL NO. of ITERATIONS REACHED LIMIT.\n",
            "\n",
            "Increase the number of iterations (max_iter) or scale the data as shown in:\n",
            "    https://scikit-learn.org/stable/modules/preprocessing.html\n",
            "Please also refer to the documentation for alternative solver options:\n",
            "    https://scikit-learn.org/stable/modules/linear_model.html#logistic-regression\n",
            "  extra_warning_msg=_LOGISTIC_SOLVER_CONVERGENCE_MSG)\n",
            "/usr/local/lib/python3.7/dist-packages/sklearn/linear_model/_logistic.py:940: ConvergenceWarning: lbfgs failed to converge (status=1):\n",
            "STOP: TOTAL NO. of ITERATIONS REACHED LIMIT.\n",
            "\n",
            "Increase the number of iterations (max_iter) or scale the data as shown in:\n",
            "    https://scikit-learn.org/stable/modules/preprocessing.html\n",
            "Please also refer to the documentation for alternative solver options:\n",
            "    https://scikit-learn.org/stable/modules/linear_model.html#logistic-regression\n",
            "  extra_warning_msg=_LOGISTIC_SOLVER_CONVERGENCE_MSG)\n",
            "/usr/local/lib/python3.7/dist-packages/sklearn/linear_model/_logistic.py:940: ConvergenceWarning: lbfgs failed to converge (status=1):\n",
            "STOP: TOTAL NO. of ITERATIONS REACHED LIMIT.\n",
            "\n",
            "Increase the number of iterations (max_iter) or scale the data as shown in:\n",
            "    https://scikit-learn.org/stable/modules/preprocessing.html\n",
            "Please also refer to the documentation for alternative solver options:\n",
            "    https://scikit-learn.org/stable/modules/linear_model.html#logistic-regression\n",
            "  extra_warning_msg=_LOGISTIC_SOLVER_CONVERGENCE_MSG)\n"
          ]
        }
      ]
    },
    {
      "cell_type": "code",
      "metadata": {
        "colab": {
          "base_uri": "https://localhost:8080/"
        },
        "id": "yUmOAFDAf8yt",
        "outputId": "ab058baa-a183-4785-e316-ed62a2458801"
      },
      "source": [
        "print('Avg accuracy : {}'.format(avg_acc_score))\n",
        "print(y_pred)\n"
      ],
      "execution_count": null,
      "outputs": [
        {
          "output_type": "stream",
          "name": "stdout",
          "text": [
            "Avg accuracy : 0.7054263565891472\n",
            "[3 3 3 3 3 3 3 3 3 3 3 3 3 3 3 3 3 3 3 3 3 3 3 3 3 3 3 3 3 3 3 3 3 3 3 3 3\n",
            " 3 3 3 3 3]\n"
          ]
        }
      ]
    }
  ]
}