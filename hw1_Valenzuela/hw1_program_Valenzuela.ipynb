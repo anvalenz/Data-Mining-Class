{
  "nbformat": 4,
  "nbformat_minor": 0,
  "metadata": {
    "colab": {
      "name": "Assgn1.ipynb",
      "provenance": [],
      "collapsed_sections": []
    },
    "kernelspec": {
      "name": "python3",
      "display_name": "Python 3"
    },
    "language_info": {
      "name": "python"
    }
  },
  "cells": [
    {
      "cell_type": "code",
      "metadata": {
        "colab": {
          "base_uri": "https://localhost:8080/"
        },
        "id": "ASQChr94yizW",
        "outputId": "753e541c-b818-4ef4-c4bc-554ebfc5d566"
      },
      "source": [
        "###I created this in google colab###\n",
        "import numpy as np\n",
        "import pandas as pd\n",
        "import math\n",
        "import random\n",
        "!pip install dtaidistance\n",
        "from dtaidistance import dtw\n",
        "from dtaidistance import dtw_visualisation as dtwvis\n",
        "#create all of our data points in a numpy array\n",
        "p1 = np.array((1,2,4,5))\n",
        "p2 = np.array((4,3,2,1))\n",
        "p3 = np.array((1,1,1,0,0))\n",
        "p4 = np.array((1,0,0,0,1))"
      ],
      "execution_count": 169,
      "outputs": [
        {
          "output_type": "stream",
          "name": "stdout",
          "text": [
            "Requirement already satisfied: dtaidistance in /usr/local/lib/python3.7/dist-packages (2.3.2)\n",
            "Requirement already satisfied: numpy in /usr/local/lib/python3.7/dist-packages (from dtaidistance) (1.19.5)\n",
            "Requirement already satisfied: cython>=0.29.6 in /usr/local/lib/python3.7/dist-packages (from dtaidistance) (0.29.24)\n"
          ]
        }
      ]
    },
    {
      "cell_type": "markdown",
      "metadata": {
        "id": "YT3Ug710yR-N"
      },
      "source": [
        "Euclidean Distance"
      ]
    },
    {
      "cell_type": "code",
      "metadata": {
        "colab": {
          "base_uri": "https://localhost:8080/"
        },
        "id": "aJ83ZzuHyIMu",
        "outputId": "adb25b5e-79ce-4865-ee8c-78dc73fb7150"
      },
      "source": [
        "#calculte [p1.x-p2.x]**2 for every set that is in the arrays\n",
        "array = zip(p1,p2) \n",
        "eudis1 = math.sqrt(sum([(p1_x - p2_x)**2 for p1_x, p2_x in array]))\n",
        "print(\"Distance between p1 and p2\")\n",
        "print(eudis1)\n",
        "\n",
        "array2 = zip(p2,p3)\n",
        "eudis2 = math.sqrt(sum([(p2_x - p3_x)**2 for p2_x, p3_x in array2]))\n",
        "print(\"Distance between p2 and p3\")\n",
        "print(eudis2)"
      ],
      "execution_count": 40,
      "outputs": [
        {
          "output_type": "stream",
          "name": "stdout",
          "text": [
            "Distance between p1 and p2\n",
            "5.477225575051661\n",
            "Distance between p2 and p3\n",
            "3.872983346207417\n"
          ]
        }
      ]
    },
    {
      "cell_type": "markdown",
      "metadata": {
        "id": "fWdgBAxP8bP1"
      },
      "source": [
        "Manhatten Distance"
      ]
    },
    {
      "cell_type": "code",
      "metadata": {
        "colab": {
          "base_uri": "https://localhost:8080/"
        },
        "id": "TZ72GGcY8e41",
        "outputId": "e74bf9df-f30c-49cf-8ab4-492e2ade0647"
      },
      "source": [
        "#First take the absolute value of all the datasets in the list, then sum them all \n",
        "array = zip(p1,p2)\n",
        "mandis = sum(np.abs([(p1_x - p2_x) for p1_x, p2_x in array]))\n",
        "print(\"Distance between p1 and p2\")\n",
        "print(mandis)\n",
        "\n",
        "array2 = zip(p2,p3)\n",
        "mandis2 = sum(np.abs([(p2_x - p3_x) for p2_x, p3_x in array2]))\n",
        "print(\"Distance between p2 and p3\")\n",
        "print(mandis2)"
      ],
      "execution_count": 59,
      "outputs": [
        {
          "output_type": "stream",
          "name": "stdout",
          "text": [
            "Distance between p1 and p2\n",
            "10\n",
            "Distance between p2 and p3\n",
            "7\n"
          ]
        }
      ]
    },
    {
      "cell_type": "markdown",
      "metadata": {
        "id": "OxWXTJxU_vtk"
      },
      "source": [
        "Cosine Similarity"
      ]
    },
    {
      "cell_type": "code",
      "metadata": {
        "colab": {
          "base_uri": "https://localhost:8080/"
        },
        "id": "whlPAe8g_1TM",
        "outputId": "7ab2f0c6-2970-4e15-cdd9-a9dd80cd4df7"
      },
      "source": [
        "array = zip(p1,p2)\n",
        "\n",
        "#x1= sum([(p1_x)**2 for p1_x in array])\n",
        "#x2= sum([(p2_x)**2 for p2_x in array])\n",
        "x1 = 1**2 * 2**2 * 4**2 * 5**2\n",
        "x2 = 4**2 * 3**2 * 2**2 * 1**2\n",
        "numerator=  sum([(p1_x - p2_x) for p1_x, p2_x in array])\n",
        "\n",
        "denominator = math.sqrt(x1) * math.sqrt(x2)\n",
        "\n",
        "print((numerator/denominator))\n",
        "\n",
        "\n"
      ],
      "execution_count": 118,
      "outputs": [
        {
          "output_type": "stream",
          "name": "stdout",
          "text": [
            "0.0020833333333333333\n"
          ]
        }
      ]
    },
    {
      "cell_type": "markdown",
      "metadata": {
        "id": "Md1w-u7tHUum"
      },
      "source": [
        "SMC Distance"
      ]
    },
    {
      "cell_type": "code",
      "metadata": {
        "colab": {
          "base_uri": "https://localhost:8080/"
        },
        "id": "ljTjL0ldHYNA",
        "outputId": "f23a9ede-99c5-4070-d9d7-43ae35b876c1"
      },
      "source": [
        "#first we check every bit position to see if they match \n",
        "difference = 0\n",
        "size = len(p1)\n",
        "print(size)\n",
        "\n",
        "for x in range(size):\n",
        "  if p1[x] != p2[x]:\n",
        "    difference += 1\n",
        "\n",
        "print(difference)\n",
        "print(\"Simple Matching Coeffecient\")\n",
        "print(difference/size)"
      ],
      "execution_count": 160,
      "outputs": [
        {
          "output_type": "stream",
          "name": "stdout",
          "text": [
            "4\n",
            "4\n",
            "Simple Matching Coeffecient\n",
            "1.0\n"
          ]
        }
      ]
    },
    {
      "cell_type": "markdown",
      "metadata": {
        "id": "cgiq-5DjHlHG"
      },
      "source": [
        "Jaccard Coeficient"
      ]
    },
    {
      "cell_type": "code",
      "metadata": {
        "colab": {
          "base_uri": "https://localhost:8080/"
        },
        "id": "A_z4-vYtHkdR",
        "outputId": "f0fb3072-7c14-4407-d8da-a56314d7fbb7"
      },
      "source": [
        "p1 = np.array((1,2,4,5))\n",
        "p2 = np.array((4,3,2,1))\n",
        "p3 = np.array((1,1,1,0,0))\n",
        "p4 = np.array((1,0,0,0,1))\n",
        "\n",
        "#p1 and P2, first we will combine the sets. \n",
        "AuB = np.concatenate((p1, p2))\n",
        "print(AuB)\n",
        "#now we will find the simliar numbers in the array \n",
        "AnB = np.intersect1d(p1,p2)\n",
        "print(AnB)\n",
        "\n",
        "union = np.sum(AuB)\n",
        "print(union)\n",
        "\n",
        "same = np.sum(AnB)\n",
        "print(same)\n",
        "\n",
        "print(\"Jaccard Coefficient\")\n",
        "print((union-same)/union)\n",
        "\n",
        "#p2 and P3, first we will combine the sets. \n",
        "AuB = np.concatenate((p2, p3))\n",
        "print(AuB)\n",
        "#now we will find the simliar numbers in the array \n",
        "AnB = np.intersect1d(p2,p3)\n",
        "print(AnB)\n",
        "\n",
        "union = np.sum(AuB)\n",
        "print(union)\n",
        "\n",
        "same = np.sum(AnB)\n",
        "print(same)\n",
        "\n",
        "print(\"Jaccard Coefficient\")\n",
        "print((union-same)/union)\n"
      ],
      "execution_count": 135,
      "outputs": [
        {
          "output_type": "stream",
          "name": "stdout",
          "text": [
            "[1 2 4 5 4 3 2 1]\n",
            "[1 2 4]\n",
            "22\n",
            "7\n",
            "Jaccard Coefficient\n",
            "0.6818181818181818\n",
            "[4 3 2 1 1 1 1 0 0]\n",
            "[1]\n",
            "13\n",
            "1\n",
            "Jaccard Coefficient\n",
            "0.9230769230769231\n"
          ]
        }
      ]
    },
    {
      "cell_type": "markdown",
      "metadata": {
        "id": "iX85g_GWHpjq"
      },
      "source": [
        "Hamming distance"
      ]
    },
    {
      "cell_type": "code",
      "metadata": {
        "colab": {
          "base_uri": "https://localhost:8080/"
        },
        "id": "6YqaGaNZHtOq",
        "outputId": "07395a9c-4401-432f-9cd0-7ff05ae2e6f2"
      },
      "source": [
        "#first we check every bit position to see if they match \n",
        "value = 0\n",
        "size = len(p3)\n",
        "print(size)\n",
        "\n",
        "for x in range(size):\n",
        "  if p3[x] != p4[x]:\n",
        "    value +=1 \n",
        "\n",
        "print(\"hamming distance\")\n",
        "print(value)\n"
      ],
      "execution_count": 144,
      "outputs": [
        {
          "output_type": "stream",
          "name": "stdout",
          "text": [
            "5\n",
            "hamming distance\n",
            "3\n"
          ]
        }
      ]
    },
    {
      "cell_type": "markdown",
      "metadata": {
        "id": "Z1kN_qSIHufv"
      },
      "source": [
        "DTW"
      ]
    },
    {
      "cell_type": "code",
      "metadata": {
        "colab": {
          "base_uri": "https://localhost:8080/"
        },
        "id": "RLDMXELUHvtx",
        "outputId": "6c79575e-0c59-4550-df5e-f65f0803c668"
      },
      "source": [
        "\n",
        "\n",
        "distance = dtw.distance(p1, p3)\n",
        "print(distance)\n",
        "# plot\n",
        "path = dtw.warping_path(p1, p3)\n",
        "dtwvis.plot_warping(p1, p3, path, filename=\"warp.png\")\n"
      ],
      "execution_count": 168,
      "outputs": [
        {
          "output_type": "stream",
          "name": "stdout",
          "text": [
            "6.48074069840786\n"
          ]
        },
        {
          "output_type": "execute_result",
          "data": {
            "text/plain": [
              "(None, None)"
            ]
          },
          "metadata": {},
          "execution_count": 168
        }
      ]
    },
    {
      "cell_type": "markdown",
      "metadata": {
        "id": "s878ed3lH4Xd"
      },
      "source": [
        "Q2. Data preprocessing "
      ]
    },
    {
      "cell_type": "markdown",
      "metadata": {
        "id": "BS7g4Y6mnbh0"
      },
      "source": [
        "Grab 10 random Samples"
      ]
    },
    {
      "cell_type": "code",
      "metadata": {
        "colab": {
          "base_uri": "https://localhost:8080/",
          "height": 376
        },
        "id": "BnLFp9rJJjab",
        "outputId": "4cd214cd-08c4-4ecb-8423-c43b07c6b395"
      },
      "source": [
        "url = 'https://raw.githubusercontent.com/anvalenz/CS488/main/BreastCancerCoimbra_imbalanced.csv'\n",
        "df = pd.read_csv('https://raw.githubusercontent.com/anvalenz/CS488/main/BreastCancerCoimbra_imbalanced.csv')\n",
        "print(\"Grab 10 random samples\")\n",
        "df.sample(n=10, random_state=1)\n"
      ],
      "execution_count": 182,
      "outputs": [
        {
          "output_type": "stream",
          "name": "stdout",
          "text": [
            "Grab 10 random samples\n"
          ]
        },
        {
          "output_type": "execute_result",
          "data": {
            "text/html": [
              "<div>\n",
              "<style scoped>\n",
              "    .dataframe tbody tr th:only-of-type {\n",
              "        vertical-align: middle;\n",
              "    }\n",
              "\n",
              "    .dataframe tbody tr th {\n",
              "        vertical-align: top;\n",
              "    }\n",
              "\n",
              "    .dataframe thead th {\n",
              "        text-align: right;\n",
              "    }\n",
              "</style>\n",
              "<table border=\"1\" class=\"dataframe\">\n",
              "  <thead>\n",
              "    <tr style=\"text-align: right;\">\n",
              "      <th></th>\n",
              "      <th>Age</th>\n",
              "      <th>BMI</th>\n",
              "      <th>Glucose</th>\n",
              "      <th>Insulin</th>\n",
              "      <th>HOMA</th>\n",
              "      <th>Leptin</th>\n",
              "      <th>Adiponectin</th>\n",
              "      <th>Resistin</th>\n",
              "      <th>MCP.1</th>\n",
              "      <th>Classification</th>\n",
              "    </tr>\n",
              "  </thead>\n",
              "  <tbody>\n",
              "    <tr>\n",
              "      <th>62</th>\n",
              "      <td>49</td>\n",
              "      <td>21.367521</td>\n",
              "      <td>78</td>\n",
              "      <td>2.640</td>\n",
              "      <td>0.507936</td>\n",
              "      <td>6.3339</td>\n",
              "      <td>3.886145</td>\n",
              "      <td>22.94254</td>\n",
              "      <td>737.672</td>\n",
              "      <td>2</td>\n",
              "    </tr>\n",
              "    <tr>\n",
              "      <th>27</th>\n",
              "      <td>66</td>\n",
              "      <td>31.446541</td>\n",
              "      <td>90</td>\n",
              "      <td>9.245</td>\n",
              "      <td>2.052390</td>\n",
              "      <td>45.9624</td>\n",
              "      <td>10.355260</td>\n",
              "      <td>23.38190</td>\n",
              "      <td>1102.110</td>\n",
              "      <td>1</td>\n",
              "    </tr>\n",
              "    <tr>\n",
              "      <th>53</th>\n",
              "      <td>45</td>\n",
              "      <td>20.829995</td>\n",
              "      <td>74</td>\n",
              "      <td>4.560</td>\n",
              "      <td>0.832352</td>\n",
              "      <td>7.7529</td>\n",
              "      <td>8.237405</td>\n",
              "      <td>28.03230</td>\n",
              "      <td>382.955</td>\n",
              "      <td>2</td>\n",
              "    </tr>\n",
              "    <tr>\n",
              "      <th>21</th>\n",
              "      <td>34</td>\n",
              "      <td>31.975015</td>\n",
              "      <td>87</td>\n",
              "      <td>4.530</td>\n",
              "      <td>0.972138</td>\n",
              "      <td>28.7502</td>\n",
              "      <td>7.642760</td>\n",
              "      <td>5.62592</td>\n",
              "      <td>572.783</td>\n",
              "      <td>1</td>\n",
              "    </tr>\n",
              "    <tr>\n",
              "      <th>26</th>\n",
              "      <td>50</td>\n",
              "      <td>38.578759</td>\n",
              "      <td>106</td>\n",
              "      <td>6.703</td>\n",
              "      <td>1.752611</td>\n",
              "      <td>46.6401</td>\n",
              "      <td>4.667645</td>\n",
              "      <td>11.78388</td>\n",
              "      <td>887.160</td>\n",
              "      <td>1</td>\n",
              "    </tr>\n",
              "    <tr>\n",
              "      <th>35</th>\n",
              "      <td>67</td>\n",
              "      <td>29.606767</td>\n",
              "      <td>79</td>\n",
              "      <td>5.819</td>\n",
              "      <td>1.133929</td>\n",
              "      <td>21.9033</td>\n",
              "      <td>2.194280</td>\n",
              "      <td>4.20750</td>\n",
              "      <td>585.307</td>\n",
              "      <td>1</td>\n",
              "    </tr>\n",
              "    <tr>\n",
              "      <th>2</th>\n",
              "      <td>82</td>\n",
              "      <td>23.124670</td>\n",
              "      <td>91</td>\n",
              "      <td>4.498</td>\n",
              "      <td>1.009651</td>\n",
              "      <td>17.9393</td>\n",
              "      <td>22.432040</td>\n",
              "      <td>9.27715</td>\n",
              "      <td>554.697</td>\n",
              "      <td>1</td>\n",
              "    </tr>\n",
              "    <tr>\n",
              "      <th>43</th>\n",
              "      <td>69</td>\n",
              "      <td>32.500000</td>\n",
              "      <td>93</td>\n",
              "      <td>5.430</td>\n",
              "      <td>1.245642</td>\n",
              "      <td>15.1450</td>\n",
              "      <td>11.787960</td>\n",
              "      <td>11.78796</td>\n",
              "      <td>270.142</td>\n",
              "      <td>1</td>\n",
              "    </tr>\n",
              "    <tr>\n",
              "      <th>49</th>\n",
              "      <td>85</td>\n",
              "      <td>26.600000</td>\n",
              "      <td>96</td>\n",
              "      <td>4.462</td>\n",
              "      <td>1.056602</td>\n",
              "      <td>7.8500</td>\n",
              "      <td>7.931700</td>\n",
              "      <td>9.61350</td>\n",
              "      <td>232.006</td>\n",
              "      <td>1</td>\n",
              "    </tr>\n",
              "    <tr>\n",
              "      <th>31</th>\n",
              "      <td>53</td>\n",
              "      <td>36.790166</td>\n",
              "      <td>101</td>\n",
              "      <td>10.175</td>\n",
              "      <td>2.534932</td>\n",
              "      <td>27.1841</td>\n",
              "      <td>20.030000</td>\n",
              "      <td>10.26309</td>\n",
              "      <td>695.754</td>\n",
              "      <td>1</td>\n",
              "    </tr>\n",
              "  </tbody>\n",
              "</table>\n",
              "</div>"
            ],
            "text/plain": [
              "    Age        BMI  Glucose  ...  Resistin     MCP.1  Classification\n",
              "62   49  21.367521       78  ...  22.94254   737.672               2\n",
              "27   66  31.446541       90  ...  23.38190  1102.110               1\n",
              "53   45  20.829995       74  ...  28.03230   382.955               2\n",
              "21   34  31.975015       87  ...   5.62592   572.783               1\n",
              "26   50  38.578759      106  ...  11.78388   887.160               1\n",
              "35   67  29.606767       79  ...   4.20750   585.307               1\n",
              "2    82  23.124670       91  ...   9.27715   554.697               1\n",
              "43   69  32.500000       93  ...  11.78796   270.142               1\n",
              "49   85  26.600000       96  ...   9.61350   232.006               1\n",
              "31   53  36.790166      101  ...  10.26309   695.754               1\n",
              "\n",
              "[10 rows x 10 columns]"
            ]
          },
          "metadata": {},
          "execution_count": 182
        }
      ]
    },
    {
      "cell_type": "markdown",
      "metadata": {
        "id": "HOsNfz4Fne4a"
      },
      "source": [
        "Grab 10 stratified samples\n"
      ]
    },
    {
      "cell_type": "code",
      "metadata": {
        "colab": {
          "base_uri": "https://localhost:8080/",
          "height": 419
        },
        "id": "BVxkxjo3njnj",
        "outputId": "d871e80a-e8fe-4902-a0f2-0d0b060ff895"
      },
      "source": [
        "url = 'https://raw.githubusercontent.com/anvalenz/CS488/main/BreastCancerCoimbra_imbalanced.csv'\n",
        "df = pd.read_csv('https://raw.githubusercontent.com/anvalenz/CS488/main/BreastCancerCoimbra_imbalanced.csv')\n",
        "df.groupby('Age', group_keys=False).apply(lambda x: x.sample(min(len(x), 10)))\n"
      ],
      "execution_count": 201,
      "outputs": [
        {
          "output_type": "execute_result",
          "data": {
            "text/html": [
              "<div>\n",
              "<style scoped>\n",
              "    .dataframe tbody tr th:only-of-type {\n",
              "        vertical-align: middle;\n",
              "    }\n",
              "\n",
              "    .dataframe tbody tr th {\n",
              "        vertical-align: top;\n",
              "    }\n",
              "\n",
              "    .dataframe thead th {\n",
              "        text-align: right;\n",
              "    }\n",
              "</style>\n",
              "<table border=\"1\" class=\"dataframe\">\n",
              "  <thead>\n",
              "    <tr style=\"text-align: right;\">\n",
              "      <th></th>\n",
              "      <th>Age</th>\n",
              "      <th>BMI</th>\n",
              "      <th>Glucose</th>\n",
              "      <th>Insulin</th>\n",
              "      <th>HOMA</th>\n",
              "      <th>Leptin</th>\n",
              "      <th>Adiponectin</th>\n",
              "      <th>Resistin</th>\n",
              "      <th>MCP.1</th>\n",
              "      <th>Classification</th>\n",
              "    </tr>\n",
              "  </thead>\n",
              "  <tbody>\n",
              "    <tr>\n",
              "      <th>13</th>\n",
              "      <td>24</td>\n",
              "      <td>18.670000</td>\n",
              "      <td>88</td>\n",
              "      <td>6.107</td>\n",
              "      <td>1.330000</td>\n",
              "      <td>8.8800</td>\n",
              "      <td>36.060000</td>\n",
              "      <td>6.85000</td>\n",
              "      <td>632.220</td>\n",
              "      <td>1</td>\n",
              "    </tr>\n",
              "    <tr>\n",
              "      <th>12</th>\n",
              "      <td>25</td>\n",
              "      <td>22.860000</td>\n",
              "      <td>82</td>\n",
              "      <td>4.090</td>\n",
              "      <td>0.827271</td>\n",
              "      <td>20.4500</td>\n",
              "      <td>23.670000</td>\n",
              "      <td>5.14000</td>\n",
              "      <td>313.730</td>\n",
              "      <td>1</td>\n",
              "    </tr>\n",
              "    <tr>\n",
              "      <th>32</th>\n",
              "      <td>28</td>\n",
              "      <td>35.855815</td>\n",
              "      <td>87</td>\n",
              "      <td>8.576</td>\n",
              "      <td>1.840410</td>\n",
              "      <td>68.5102</td>\n",
              "      <td>4.794200</td>\n",
              "      <td>21.44366</td>\n",
              "      <td>358.624</td>\n",
              "      <td>1</td>\n",
              "    </tr>\n",
              "    <tr>\n",
              "      <th>11</th>\n",
              "      <td>29</td>\n",
              "      <td>23.010000</td>\n",
              "      <td>82</td>\n",
              "      <td>5.663</td>\n",
              "      <td>1.145436</td>\n",
              "      <td>35.5900</td>\n",
              "      <td>26.720000</td>\n",
              "      <td>4.58000</td>\n",
              "      <td>174.800</td>\n",
              "      <td>1</td>\n",
              "    </tr>\n",
              "    <tr>\n",
              "      <th>22</th>\n",
              "      <td>29</td>\n",
              "      <td>32.270788</td>\n",
              "      <td>84</td>\n",
              "      <td>5.810</td>\n",
              "      <td>1.203832</td>\n",
              "      <td>45.6196</td>\n",
              "      <td>6.209635</td>\n",
              "      <td>24.60330</td>\n",
              "      <td>904.981</td>\n",
              "      <td>1</td>\n",
              "    </tr>\n",
              "    <tr>\n",
              "      <th>...</th>\n",
              "      <td>...</td>\n",
              "      <td>...</td>\n",
              "      <td>...</td>\n",
              "      <td>...</td>\n",
              "      <td>...</td>\n",
              "      <td>...</td>\n",
              "      <td>...</td>\n",
              "      <td>...</td>\n",
              "      <td>...</td>\n",
              "      <td>...</td>\n",
              "    </tr>\n",
              "    <tr>\n",
              "      <th>2</th>\n",
              "      <td>82</td>\n",
              "      <td>23.124670</td>\n",
              "      <td>91</td>\n",
              "      <td>4.498</td>\n",
              "      <td>1.009651</td>\n",
              "      <td>17.9393</td>\n",
              "      <td>22.432040</td>\n",
              "      <td>9.27715</td>\n",
              "      <td>554.697</td>\n",
              "      <td>1</td>\n",
              "    </tr>\n",
              "    <tr>\n",
              "      <th>1</th>\n",
              "      <td>83</td>\n",
              "      <td>20.690495</td>\n",
              "      <td>92</td>\n",
              "      <td>3.115</td>\n",
              "      <td>0.706897</td>\n",
              "      <td>8.8438</td>\n",
              "      <td>5.429285</td>\n",
              "      <td>4.06405</td>\n",
              "      <td>468.786</td>\n",
              "      <td>1</td>\n",
              "    </tr>\n",
              "    <tr>\n",
              "      <th>49</th>\n",
              "      <td>85</td>\n",
              "      <td>26.600000</td>\n",
              "      <td>96</td>\n",
              "      <td>4.462</td>\n",
              "      <td>1.056602</td>\n",
              "      <td>7.8500</td>\n",
              "      <td>7.931700</td>\n",
              "      <td>9.61350</td>\n",
              "      <td>232.006</td>\n",
              "      <td>1</td>\n",
              "    </tr>\n",
              "    <tr>\n",
              "      <th>4</th>\n",
              "      <td>86</td>\n",
              "      <td>21.111111</td>\n",
              "      <td>92</td>\n",
              "      <td>3.549</td>\n",
              "      <td>0.805386</td>\n",
              "      <td>6.6994</td>\n",
              "      <td>4.819240</td>\n",
              "      <td>10.57635</td>\n",
              "      <td>773.920</td>\n",
              "      <td>1</td>\n",
              "    </tr>\n",
              "    <tr>\n",
              "      <th>6</th>\n",
              "      <td>89</td>\n",
              "      <td>22.700000</td>\n",
              "      <td>77</td>\n",
              "      <td>4.690</td>\n",
              "      <td>0.890787</td>\n",
              "      <td>6.9640</td>\n",
              "      <td>5.589865</td>\n",
              "      <td>12.93610</td>\n",
              "      <td>1256.083</td>\n",
              "      <td>1</td>\n",
              "    </tr>\n",
              "  </tbody>\n",
              "</table>\n",
              "<p>67 rows × 10 columns</p>\n",
              "</div>"
            ],
            "text/plain": [
              "    Age        BMI  Glucose  ...  Resistin     MCP.1  Classification\n",
              "13   24  18.670000       88  ...   6.85000   632.220               1\n",
              "12   25  22.860000       82  ...   5.14000   313.730               1\n",
              "32   28  35.855815       87  ...  21.44366   358.624               1\n",
              "11   29  23.010000       82  ...   4.58000   174.800               1\n",
              "22   29  32.270788       84  ...  24.60330   904.981               1\n",
              "..  ...        ...      ...  ...       ...       ...             ...\n",
              "2    82  23.124670       91  ...   9.27715   554.697               1\n",
              "1    83  20.690495       92  ...   4.06405   468.786               1\n",
              "49   85  26.600000       96  ...   9.61350   232.006               1\n",
              "4    86  21.111111       92  ...  10.57635   773.920               1\n",
              "6    89  22.700000       77  ...  12.93610  1256.083               1\n",
              "\n",
              "[67 rows x 10 columns]"
            ]
          },
          "metadata": {},
          "execution_count": 201
        }
      ]
    }
  ]
}