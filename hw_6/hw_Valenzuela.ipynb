{
  "nbformat": 4,
  "nbformat_minor": 0,
  "metadata": {
    "colab": {
      "name": "hw-Valenzuela.ipynb",
      "provenance": []
    },
    "kernelspec": {
      "name": "python3",
      "display_name": "Python 3"
    },
    "language_info": {
      "name": "python"
    }
  },
  "cells": [
    {
      "cell_type": "code",
      "metadata": {
        "colab": {
          "base_uri": "https://localhost:8080/"
        },
        "id": "MrXKGNRIDuGk",
        "outputId": "2f77f644-96da-4db5-dce8-e2edea8da09c"
      },
      "source": [
        "!pip install kneed\n",
        "import matplotlib.pyplot as plt\n",
        "import numpy as np\n",
        "from kneed import KneeLocator\n",
        "from sklearn.datasets import make_blobs\n",
        "from sklearn.cluster import KMeans \n",
        "from sklearn.metrics import silhouette_score\n",
        "from sklearn.preprocessing import StandardScaler"
      ],
      "execution_count": 2,
      "outputs": [
        {
          "output_type": "stream",
          "name": "stdout",
          "text": [
            "Collecting kneed\n",
            "  Downloading kneed-0.7.0-py2.py3-none-any.whl (9.4 kB)\n",
            "Requirement already satisfied: numpy>=1.14.2 in /usr/local/lib/python3.7/dist-packages (from kneed) (1.19.5)\n",
            "Requirement already satisfied: scipy in /usr/local/lib/python3.7/dist-packages (from kneed) (1.4.1)\n",
            "Requirement already satisfied: matplotlib in /usr/local/lib/python3.7/dist-packages (from kneed) (3.2.2)\n",
            "Requirement already satisfied: python-dateutil>=2.1 in /usr/local/lib/python3.7/dist-packages (from matplotlib->kneed) (2.8.2)\n",
            "Requirement already satisfied: pyparsing!=2.0.4,!=2.1.2,!=2.1.6,>=2.0.1 in /usr/local/lib/python3.7/dist-packages (from matplotlib->kneed) (2.4.7)\n",
            "Requirement already satisfied: kiwisolver>=1.0.1 in /usr/local/lib/python3.7/dist-packages (from matplotlib->kneed) (1.3.2)\n",
            "Requirement already satisfied: cycler>=0.10 in /usr/local/lib/python3.7/dist-packages (from matplotlib->kneed) (0.10.0)\n",
            "Requirement already satisfied: six in /usr/local/lib/python3.7/dist-packages (from cycler>=0.10->matplotlib->kneed) (1.15.0)\n",
            "Installing collected packages: kneed\n",
            "Successfully installed kneed-0.7.0\n"
          ]
        }
      ]
    },
    {
      "cell_type": "markdown",
      "metadata": {
        "id": "eug9CwXZDWA8"
      },
      "source": [
        "K-Means clustering"
      ]
    },
    {
      "cell_type": "code",
      "metadata": {
        "colab": {
          "base_uri": "https://localhost:8080/",
          "height": 537
        },
        "id": "eZmpMgaeDUij",
        "outputId": "8af29ba7-cf0b-4280-94ab-7172fb68481c"
      },
      "source": [
        "\n",
        "x1=[1,1]\n",
        "x2=[5,5]\n",
        "x3=[5,6]\n",
        "x4=[7,8]\n",
        "x5=[8,6]\n",
        "x6=[8,7]\n",
        "#figure out Kmeans\n",
        "distortions=[]\n",
        "K=range(1,6)\n",
        "for k in K:\n",
        "  kmeanModel = KMeans(n_clusters=k)\n",
        "  kmeanModel.fit(x)\n",
        "  distortions.append(kmeanModel.inertia_)\n",
        "  print(distortions)\n",
        "\n",
        "print(\"final distortions\")  \n",
        "print(distortions)\n",
        "\n",
        "x =np.array([[1,1],[5,5],[5,6],[7,8],[8,6],[8,7]])\n",
        "kmeans_model = KMeans(n_clusters=2, n_jobs=2, random_state=0)\n",
        "print(Kmeans.labels_)\n",
        "print(Kmeans.predict([[1,1],[5,5]]))\n",
        "kmeans_predict=kmeans_model.fit_predict(x)\n",
        "print(Kmeans.cluster_centers_)\n",
        "\n",
        "plt.scatter(x[kmeans_predict == 0, 0], x[kmeans_predict == 0, 1], s = 100, c = 'red')\n",
        "plt.scatter(x[kmeans_predict == 1, 0], x[kmeans_predict == 1, 1], s = 100, c = 'blue')\n",
        "plt.scatter(x[kmeans_predict == 2, 0], x[kmeans_predict == 2, 1], s = 100, c = 'green')\n",
        "\n",
        "plt.scatter(kmeans_model.cluster_centers_[:, 0], kmeans_model.cluster_centers_[:,1], s = 100, c = 'yellow', label = 'Centroid')\n",
        "plt.legend()\n"
      ],
      "execution_count": 56,
      "outputs": [
        {
          "output_type": "stream",
          "name": "stdout",
          "text": [
            "[64.83333333333334]\n",
            "[64.83333333333334, 14.399999999999999]\n",
            "[64.83333333333334, 14.399999999999999, 3.166666666666667]\n",
            "[64.83333333333334, 14.399999999999999, 3.166666666666667, 1.0]\n",
            "[64.83333333333334, 14.399999999999999, 3.166666666666667, 1.0, 0.5]\n",
            "final distortions\n",
            "[64.83333333333334, 14.399999999999999, 3.166666666666667, 1.0, 0.5]\n",
            "[1 2 4 3 0 5]\n",
            "[1 2]\n",
            "[[8. 6.]\n",
            " [1. 1.]\n",
            " [5. 5.]\n",
            " [7. 8.]\n",
            " [5. 6.]\n",
            " [8. 7.]]\n"
          ]
        },
        {
          "output_type": "execute_result",
          "data": {
            "text/plain": [
              "<matplotlib.legend.Legend at 0x7f91bd4709d0>"
            ]
          },
          "metadata": {},
          "execution_count": 56
        },
        {
          "output_type": "display_data",
          "data": {
            "image/png": "[encoded data removed]",
            "text/plain": [
              "<Figure size 432x288 with 1 Axes>"
            ]
          },
          "metadata": {
            "needs_background": "light"
          }
        }
      ]
    },
    {
      "cell_type": "markdown",
      "metadata": {
        "id": "uDk-_wCYy9yo"
      },
      "source": [
        "MST TREE"
      ]
    },
    {
      "cell_type": "code",
      "metadata": {
        "colab": {
          "base_uri": "https://localhost:8080/"
        },
        "id": "22x2MT9Ay_2i",
        "outputId": "c17eded0-8e06-4894-f06e-6437a730f847"
      },
      "source": [
        "\n",
        "x1=np.array((1,1))\n",
        "x2=np.array((5,5))\n",
        "x3=np.array((5,6))\n",
        "x4=np.array((7,8))\n",
        "x5=np.array((8,6))\n",
        "x6=np.array((8,7))\n",
        "\n",
        "#We will start at one and calculate the Euclidean distance \n",
        "\n",
        "distx12 = np.linalg.norm(x1-x2)\n",
        "print(\"x1 and x2\")\n",
        "print(distx12)\n",
        "print(\"x1 and x3\")\n",
        "distx13 = np.linalg.norm(x1-x3)\n",
        "print(distx13)\n",
        "print(\"x1 and x4\")\n",
        "distx14 = np.linalg.norm(x1-x4)\n",
        "print(distx14)\n",
        "print(\"x1 and x5\")\n",
        "distx15 = np.linalg.norm(x1-x5)\n",
        "print(distx15)\n",
        "\n",
        "\n",
        "distx22 = np.linalg.norm(x2-x3)\n",
        "print(\"x2 and x3\")\n",
        "print(distx22)\n",
        "print(\"x2 and x4\")\n",
        "distx23 = np.linalg.norm(x2-x4)\n",
        "print(distx23)\n",
        "print(\"x2 and x5\")\n",
        "distx25 = np.linalg.norm(x2-x5)\n",
        "print(distx25)\n",
        "\n",
        "\n",
        "print(\"x3 and x4\")\n",
        "distx33 = np.linalg.norm(x3-x4)\n",
        "print(distx33)\n",
        "print(\"x3 and x5\")\n",
        "distx35 = np.linalg.norm(x3-x5)\n",
        "print(distx35)\n",
        "\n",
        "print(\"x4 and x5\")\n",
        "distx43 = np.linalg.norm(x4-x5)\n",
        "print(distx43)\n",
        "print(\"x4 and x6\")\n",
        "distx46 = np.linalg.norm(x4-x6)\n",
        "print(distx46)\n",
        "\n",
        "print(\"x5 and x6\")\n",
        "distx56 = np.linalg.norm(x5-x6)\n",
        "print(distx56)"
      ],
      "execution_count": 73,
      "outputs": [
        {
          "output_type": "stream",
          "name": "stdout",
          "text": [
            "x1 and x2\n",
            "5.656854249492381\n",
            "x1 and x3\n",
            "6.4031242374328485\n",
            "x1 and x4\n",
            "9.219544457292887\n",
            "x1 and x5\n",
            "8.602325267042627\n",
            "x2 and x3\n",
            "1.0\n",
            "x2 and x4\n",
            "3.605551275463989\n",
            "x2 and x5\n",
            "3.1622776601683795\n",
            "x3 and x4\n",
            "2.8284271247461903\n",
            "x3 and x5\n",
            "3.0\n",
            "x4 and x5\n",
            "2.23606797749979\n",
            "x4 and x6\n",
            "1.4142135623730951\n",
            "x5 and x6\n",
            "1.0\n"
          ]
        }
      ]
    }
  ]
}